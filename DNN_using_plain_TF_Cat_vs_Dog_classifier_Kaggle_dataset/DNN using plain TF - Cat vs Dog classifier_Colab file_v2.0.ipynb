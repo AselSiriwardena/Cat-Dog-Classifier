{
  "nbformat": 4,
  "nbformat_minor": 0,
  "metadata": {
    "colab": {
      "name": "DNN using plain TF - Cat vs Dog classifier.ipynb",
      "version": "0.3.2",
      "provenance": [],
      "toc_visible": true,
      "include_colab_link": true
    },
    "kernelspec": {
      "display_name": "Python 3",
      "language": "python",
      "name": "python3"
    },
    "accelerator": "GPU"
  },
  "cells": [
    {
      "cell_type": "markdown",
      "metadata": {
        "id": "view-in-github",
        "colab_type": "text"
      },
      "source": [
        "<a href=\"https://colab.research.google.com/github/selvam85/Cat-Dog-Classifier/blob/master/DNN_using_plain_TF_Cat_vs_Dog_classifier_Kaggle_dataset/DNN%20using%20plain%20TF%20-%20Cat%20vs%20Dog%20classifier_Colab%20file_v2.0.ipynb\" target=\"_parent\"><img src=\"https://colab.research.google.com/assets/colab-badge.svg\" alt=\"Open In Colab\"/></a>"
      ]
    },
    {
      "metadata": {
        "id": "8k2NwPqGhVwr",
        "colab_type": "code",
        "colab": {
          "base_uri": "https://localhost:8080/",
          "height": 35
        },
        "outputId": "e488f2ac-d69f-4ae0-f4a7-763383d2e23d"
      },
      "cell_type": "code",
      "source": [
        "import tensorflow as tf\n",
        "device_name = tf.test.gpu_device_name()\n",
        "if device_name != '/device:GPU:0':\n",
        "  raise SystemError('GPU device not found')\n",
        "print('Found GPU at: {}'.format(device_name))"
      ],
      "execution_count": 2,
      "outputs": [
        {
          "output_type": "stream",
          "text": [
            "Found GPU at: /device:GPU:0\n"
          ],
          "name": "stdout"
        }
      ]
    },
    {
      "metadata": {
        "colab_type": "code",
        "id": "8xkS3MVSpU73",
        "colab": {}
      },
      "cell_type": "code",
      "source": [
        "import tensorflow as tf\n",
        "import numpy as np\n",
        "import h5py\n",
        "import math\n",
        "import time\n",
        "from random import shuffle\n",
        "import matplotlib.pyplot as plt\n",
        "from tensorflow.contrib.layers import fully_connected, l2_regularizer\n",
        "from tensorflow.contrib.framework import arg_scope\n",
        "from sklearn.preprocessing import MinMaxScaler\n",
        "\n",
        "%matplotlib inline"
      ],
      "execution_count": 0,
      "outputs": []
    },
    {
      "metadata": {
        "id": "FW91J31Egz3f",
        "colab_type": "text"
      },
      "cell_type": "markdown",
      "source": [
        "### Util functions"
      ]
    },
    {
      "metadata": {
        "id": "xe-1hVcsgz3j",
        "colab_type": "code",
        "colab": {}
      },
      "cell_type": "code",
      "source": [
        "def load_dataset():\n",
        "    \n",
        "    lmd_tic = time.time()\n",
        "    \n",
        "    X_full_dataset = []\n",
        "    Y_full_dataset = []\n",
        "    filename_prefix = 'drive/DeepLearning/Datasets/Kaggle_Cat_Vs_Dog_normalized/dog_vs_cat_normalized_dataset_kaggle_128px_'\n",
        "    \n",
        "    for i in range(1, 26):\n",
        "        \n",
        "        filename = filename_prefix + str(i) + \".h5\"\n",
        "        with h5py.File(filename, \"r\") as f:\n",
        "    \n",
        "            #print(list(f.keys()))\n",
        "            #x_mini_data = None\n",
        "            #y_mini_data = None\n",
        "            \n",
        "            X_full_dataset.append(f[\"input_data\"][:])\n",
        "            Y_full_dataset.append(f[\"input_labels\"][:])\n",
        "\n",
        "            #x_mini_data = f[\"input_data\"][:]\n",
        "            #y_mini_data = f[\"input_labels\"][:]\n",
        "    \n",
        "    lmd_toc = time.time()\n",
        "    print('Time taken to load the data set is', ((lmd_toc-lmd_tic) * 1000), 'ms')\n",
        "    \n",
        "    #return x_mini_data, y_mini_data\n",
        "    return X_full_dataset, Y_full_dataset"
      ],
      "execution_count": 0,
      "outputs": []
    },
    {
      "metadata": {
        "id": "7ff1HYrogz3n",
        "colab_type": "code",
        "colab": {}
      },
      "cell_type": "code",
      "source": [
        "def get_shuffled_indices(start_value, last_value):\n",
        "    \n",
        "    temp = np.arange(start_value, last_value)\n",
        "    shuffle(temp)\n",
        "    \n",
        "    return temp"
      ],
      "execution_count": 0,
      "outputs": []
    },
    {
      "metadata": {
        "id": "sZjGjnzWgz3q",
        "colab_type": "code",
        "colab": {}
      },
      "cell_type": "code",
      "source": [
        "def create_random_mini_batches(X, Y, n_classes = 2, mini_batch_size = 32):\n",
        "    \n",
        "    m = X.shape[0] # number of training examples\n",
        "    mini_batches = []\n",
        "    \n",
        "    #print(\"Shape of X =\", X.shape)\n",
        "    #print(\"Shape of Y =\", Y.shape)\n",
        "    \n",
        "    #Reshaping to convert Y to a 2D array from a rank one array\n",
        "    Y = Y.reshape(Y.shape[0], 1)\n",
        "    \n",
        "    #Shuffle the data in each of the mini batch\n",
        "    permutation = list(np.random.permutation(m))\n",
        "    shuffled_X = X[permutation, :]\n",
        "    shuffled_Y = Y[permutation, :]\n",
        "    \n",
        "    n_mini_batches = math.ceil(m / mini_batch_size) # number of mini batches of size mini_batch_size in your partitionning\n",
        "    for k in range(n_mini_batches):\n",
        "        \n",
        "        start_pos = k * mini_batch_size\n",
        "        end_pos = min(start_pos + mini_batch_size, m)\n",
        "        \n",
        "        mini_batch_X = shuffled_X[start_pos : end_pos, :]\n",
        "        mini_batch_Y = shuffled_Y[start_pos : end_pos, :]\n",
        "        \n",
        "        mini_batch = (mini_batch_X, mini_batch_Y)\n",
        "        mini_batches.append(mini_batch)\n",
        "    \n",
        "    return mini_batches"
      ],
      "execution_count": 0,
      "outputs": []
    },
    {
      "metadata": {
        "colab_type": "text",
        "id": "i56i0MpqpU8U"
      },
      "cell_type": "markdown",
      "source": [
        "### Build the DNN using plain TensorFlow\n",
        "\n",
        "**Step 1 - Code the individual ops in the computation graph**\n",
        "- Create Placeholders for X, Y\n",
        "- Create the nn_model - all the layers and initialize them\n",
        "- Compute the cost\n",
        "- Create the optimizer to minimize the cost\n",
        "- Evaluate the model\n",
        "\n",
        "**Step 2 - Build the computation graph**\n",
        "- Combine all the steps in Step 1 to build the computation graph\n",
        "- Initialize the variables\n",
        "- Create a Saver object to save the learnt parameters after the model is trained\n",
        "\n",
        "**Step 3 - Execute the graph**\n",
        "- Create mini batches so that gradient descent works on these mini batches for every step instead of all instances\n",
        "- Train the model for a given number of epochs\n",
        "- Print the cost, train accuracy & test accuracy at regular interval of epochs\n",
        "- Plot the training error (cost) vs epochs\n",
        "- Save the parameters\n",
        "\n",
        "**Step 4 - Predict for any data**\n",
        "- Build a method to pass random data for the model to predict based on the parameters learnt through training"
      ]
    },
    {
      "metadata": {
        "colab_type": "text",
        "id": "Oq2WIyiCpU8V"
      },
      "cell_type": "markdown",
      "source": [
        "### Create the placeholders"
      ]
    },
    {
      "metadata": {
        "colab_type": "code",
        "id": "AkBHP2R4pU8X",
        "colab": {}
      },
      "cell_type": "code",
      "source": [
        "def create_placeholders(n_inputs):\n",
        "    '''\n",
        "    n_inputs - A scalar containing the number of input features\n",
        "    '''\n",
        "    \n",
        "    X = tf.placeholder(tf.float32, shape = (None, n_inputs), name = 'X')\n",
        "    Y = tf.placeholder(tf.float32, shape = (None, 1), name = 'Y')\n",
        "    \n",
        "    return X, Y"
      ],
      "execution_count": 0,
      "outputs": []
    },
    {
      "metadata": {
        "colab_type": "text",
        "id": "HoJ-w6NMpU8a"
      },
      "cell_type": "markdown",
      "source": [
        "### Create the NN model"
      ]
    },
    {
      "metadata": {
        "colab_type": "code",
        "id": "0iig8mn_pU8c",
        "colab": {}
      },
      "cell_type": "code",
      "source": [
        "def nn_model(X, n_neurons):\n",
        "    '''\n",
        "    X - input Tensor X\n",
        "    n_neurons - A scalar containing the number of neurons in each layer including both hidden layers and output layer \n",
        "    '''\n",
        "    #with arg_scope([fully_connected], weights_regularizer = l2_regularizer(scale = 0.01)):\n",
        "    hidden_layer_1 = fully_connected(X, n_neurons['hidden_layer_1'], scope = 'hidden_layer_1')\n",
        "    hidden_layer_2 = fully_connected(hidden_layer_1, n_neurons['hidden_layer_2'], scope = 'hidden_layer_2')\n",
        "    hidden_layer_3 = fully_connected(hidden_layer_2, n_neurons['hidden_layer_3'], scope = 'hidden_layer_3')\n",
        "    hidden_layer_4 = fully_connected(hidden_layer_3, n_neurons['hidden_layer_4'], scope = 'hidden_layer_4')\n",
        "    hidden_layer_5 = fully_connected(hidden_layer_4, n_neurons['hidden_layer_5'], scope = 'hidden_layer_5')\n",
        "    logits = fully_connected(hidden_layer_3, n_neurons['output_layer'], activation_fn = None, scope = 'output_layer')\n",
        "    \n",
        "    return logits"
      ],
      "execution_count": 0,
      "outputs": []
    },
    {
      "metadata": {
        "colab_type": "text",
        "id": "XZMtdnd7pU8f"
      },
      "cell_type": "markdown",
      "source": [
        "### Compute the cost"
      ]
    },
    {
      "metadata": {
        "colab_type": "code",
        "id": "iwvRAcarpU8g",
        "colab": {}
      },
      "cell_type": "code",
      "source": [
        "def compute_cost(labels, logits):\n",
        "    '''\n",
        "    labels - label tensor Y\n",
        "    logits - Tensor containing the values of the output layer before passing to the activation function\n",
        "    '''\n",
        "    \n",
        "    cross_entropy = tf.nn.sigmoid_cross_entropy_with_logits(labels = labels, logits = logits)\n",
        "    cost = tf.reduce_mean(cross_entropy, name = 'cost')\n",
        "    #base_cost = tf.reduce_mean(cross_entropy)\n",
        "    #reg_losses = tf.get_collection(tf.GraphKeys.REGULARIZATION_LOSSES)\n",
        "    #cost = tf.add_n([base_cost] + reg_losses, name = 'cost')\n",
        "    \n",
        "    return cost"
      ],
      "execution_count": 0,
      "outputs": []
    },
    {
      "metadata": {
        "colab_type": "text",
        "id": "AAWyNQI6pU8m"
      },
      "cell_type": "markdown",
      "source": [
        "### Create the optimizer and the training operation"
      ]
    },
    {
      "metadata": {
        "colab_type": "code",
        "id": "xk2mXeZ6pU8o",
        "colab": {}
      },
      "cell_type": "code",
      "source": [
        "def optimizer(learning_rate, cost):\n",
        "    '''\n",
        "    learning_rate - A scalar value containing the learning rate for the backpropagation step\n",
        "    cost - Overall cost from the forward propagation step for one set of mini batch instance\n",
        "    '''\n",
        "    \n",
        "    optimizer = tf.train.AdamOptimizer(learning_rate)\n",
        "    training_op = optimizer.minimize(cost)\n",
        "    \n",
        "    return training_op"
      ],
      "execution_count": 0,
      "outputs": []
    },
    {
      "metadata": {
        "colab_type": "text",
        "id": "rnft-gRwpU8r"
      },
      "cell_type": "markdown",
      "source": [
        "### Evaluate the model\n",
        "\n",
        "We will use accuracy as the evaluation metric"
      ]
    },
    {
      "metadata": {
        "colab_type": "code",
        "id": "kaxqAWcmpU8r",
        "colab": {}
      },
      "cell_type": "code",
      "source": [
        "def evaluate_model(logits, Y):\n",
        "    '''\n",
        "    logits - An array containing the values from the output layer\n",
        "    Y - An array containing the labels\n",
        "    '''\n",
        "    \n",
        "    #Compute the probability using the sigmoid function\n",
        "    y_pred = tf.nn.sigmoid(logits)\n",
        "    #Convert it to 0 or 1 class based on the probability and cast it to integer\n",
        "    y_pred = tf.cast(y_pred > 0.5, tf.int64)\n",
        "    #y_pred = tf.cast(tf.round(y_pred), tf.int64)\n",
        "    \n",
        "    #Create a boolean tensor by comparing the model prediction against the labels\n",
        "    correct_prediction = tf.equal(y_pred, tf.cast(Y, tf.int64))\n",
        "    #Compute the accuracy across all the instances\n",
        "    accuracy = tf.reduce_mean(tf.cast(correct_prediction, tf.float32))\n",
        "    \n",
        "    return accuracy"
      ],
      "execution_count": 0,
      "outputs": []
    },
    {
      "metadata": {
        "colab_type": "text",
        "id": "q-SeFuNupU8v"
      },
      "cell_type": "markdown",
      "source": [
        "### Build the computation graph & execute it"
      ]
    },
    {
      "metadata": {
        "colab_type": "code",
        "id": "uUyeq938pU8w",
        "colab": {}
      },
      "cell_type": "code",
      "source": [
        "def train_model(n_neurons, n_inputs, learning_rate = 0.01, mini_batch_size = 32, n_epochs = 20, print_cost = False):\n",
        "    \n",
        "    tf.reset_default_graph()\n",
        "    \n",
        "    #Declare and initialize the required variables\n",
        "    costs = []\n",
        "    \n",
        "    #Create Placeholder\n",
        "    X, Y = create_placeholders(n_inputs)\n",
        "    \n",
        "    #Create the nn_model\n",
        "    logits = nn_model(X, n_neurons) \n",
        "    \n",
        "    #Compute the cost\n",
        "    cost = compute_cost(Y, logits)\n",
        "    \n",
        "    #Optimize the cost using Gradient Descent Optimizer\n",
        "    training_op = optimizer(learning_rate, cost)\n",
        "    \n",
        "    #Evaluate the model\n",
        "    accuracy = evaluate_model(logits, Y)\n",
        "    \n",
        "    #Initialize the variables\n",
        "    init = tf.global_variables_initializer()\n",
        "    \n",
        "    #Create the Saver object\n",
        "    saver = tf.train.Saver()\n",
        "    \n",
        "    #Execute the Graph - Train the model\n",
        "    with tf.Session() as sess:\n",
        "        init.run()\n",
        "        \n",
        "        X_full_dataset, Y_full_dataset = load_dataset()\n",
        "        \n",
        "        for epoch in range(1, n_epochs + 1):\n",
        "            n_mini_batches = 0\n",
        "            epoch_cost = 0\n",
        "            total_time_taken_to_create_mini_batches = 0\n",
        "            \n",
        "            tic = time.time()\n",
        "            \n",
        "            shuffled_indices = get_shuffled_indices(0, 25)\n",
        "            for j in shuffled_indices:\n",
        "                X_mini = None\n",
        "                Y_mini = None\n",
        "                #X_mini, Y_mini = load_mini_dataset(j)\n",
        "                \n",
        "                X_mini = X_full_dataset[j]\n",
        "                Y_mini = Y_full_dataset[j]\n",
        "                \n",
        "                rmb_tic = time.time()\n",
        "                mini_batches = None\n",
        "                mini_batches = create_random_mini_batches(X_mini, Y_mini, mini_batch_size = mini_batch_size)\n",
        "                rmb_toc = time.time()\n",
        "                total_time_taken_to_create_mini_batches += (rmb_toc-rmb_tic)\n",
        "                            \n",
        "                for mini_batch in mini_batches:\n",
        "                    n_mini_batches += 1\n",
        "                    (X_mini_batch, Y_mini_batch) = mini_batch\n",
        "                    _, mini_batch_cost = sess.run([training_op, cost], feed_dict = {X: X_mini_batch, Y: Y_mini_batch})\n",
        "\n",
        "                    epoch_cost += mini_batch_cost\n",
        "            \n",
        "            toc = time.time()\n",
        "            training_time = ((toc-tic) - total_time_taken_to_create_mini_batches) * 1000\n",
        "            print('Epoch', epoch, \n",
        "                  '| Mini Batch Creation:', total_time_taken_to_create_mini_batches * 1000, 'ms',\n",
        "                  '| Training Time:', training_time, 'ms',\n",
        "                  '| Total Time:', ((toc-tic) * 1000), 'ms')\n",
        "            \n",
        "            epoch_cost = epoch_cost / n_mini_batches\n",
        "            train_accuracy = accuracy.eval(feed_dict = {X: X_mini_batch, Y: Y_mini_batch})\n",
        "            #cval_accuracy = accuracy.eval(feed_dict = {X: X_cval, Y: Y_cval})\n",
        "            \n",
        "            if print_cost and epoch % 2 == 0:\n",
        "                print('At epoch', epoch, 'Cost =', epoch_cost, '| Train Accuracy =', train_accuracy)\n",
        "            \n",
        "            if epoch % 2 == 0:\n",
        "                costs.append(epoch_cost)\n",
        "            \n",
        "        saver_path = saver.save(sess, './my_model_final.ckpt')\n",
        "        \n",
        "    #print('Final - Train Accuracy =', train_accuracy, '| CVal Accuracy =', cval_accuracy)\n",
        "    print('Final - Train Accuracy =', train_accuracy)\n",
        "        \n",
        "    plt.plot(costs)\n",
        "    plt.xlabel('# of Epochs')\n",
        "    plt.ylabel('Training Error - Cost')\n",
        "    plt.title('Training Error Vs Epochs')\n",
        "    plt.show()\n",
        "    \n",
        "    return saver_path"
      ],
      "execution_count": 0,
      "outputs": []
    },
    {
      "metadata": {
        "colab_type": "code",
        "id": "nDvKIWNHpU8z",
        "outputId": "d1ccfa8a-c4e1-4449-878a-2e80d748fe6a",
        "scrolled": true,
        "colab": {
          "base_uri": "https://localhost:8080/",
          "height": 611
        }
      },
      "cell_type": "code",
      "source": [
        "n_neurons = {'hidden_layer_1': 50,\n",
        "             'hidden_layer_2': 50,\n",
        "             'hidden_layer_3': 50,\n",
        "             'hidden_layer_4': 50,\n",
        "             'hidden_layer_5': 30,\n",
        "             'output_layer': 1}\n",
        "n_input_features = 49152\n",
        "train_model(n_neurons, n_input_features, learning_rate = 0.01, n_epochs = 10, mini_batch_size = 32,\n",
        "            print_cost = True)"
      ],
      "execution_count": 15,
      "outputs": [
        {
          "output_type": "stream",
          "text": [
            "Time taken to load the data set is 72054.25643920898 ms\n",
            "Epoch 1 | Mini Batch Creation: 2064.8417472839355 ms | Training Time: 4820.141077041626 ms | Total Time: 6884.9828243255615 ms\n",
            "Epoch 2 | Mini Batch Creation: 1803.3645153045654 ms | Training Time: 4405.981063842773 ms | Total Time: 6209.345579147339 ms\n",
            "At epoch 2 Cost = 0.6935468188027287 | Train Accuracy = 0.46875\n",
            "Epoch 3 | Mini Batch Creation: 1867.3241138458252 ms | Training Time: 4501.71685218811 ms | Total Time: 6369.040966033936 ms\n",
            "Epoch 4 | Mini Batch Creation: 1809.2873096466064 ms | Training Time: 4075.7155418395996 ms | Total Time: 5885.002851486206 ms\n",
            "At epoch 4 Cost = 0.6934391781497184 | Train Accuracy = 0.5\n",
            "Epoch 5 | Mini Batch Creation: 1787.4987125396729 ms | Training Time: 4077.9528617858887 ms | Total Time: 5865.4515743255615 ms\n",
            "Epoch 6 | Mini Batch Creation: 1791.7256355285645 ms | Training Time: 4070.9450244903564 ms | Total Time: 5862.670660018921 ms\n",
            "At epoch 6 Cost = 0.6933532139986677 | Train Accuracy = 0.59375\n",
            "Epoch 7 | Mini Batch Creation: 1800.9321689605713 ms | Training Time: 4063.427448272705 ms | Total Time: 5864.359617233276 ms\n",
            "Epoch 8 | Mini Batch Creation: 1784.1355800628662 ms | Training Time: 4076.4777660369873 ms | Total Time: 5860.6133460998535 ms\n",
            "At epoch 8 Cost = 0.6934460290252705 | Train Accuracy = 0.625\n",
            "Epoch 9 | Mini Batch Creation: 1790.5850410461426 ms | Training Time: 4083.3377838134766 ms | Total Time: 5873.922824859619 ms\n",
            "Epoch 10 | Mini Batch Creation: 1752.3305416107178 ms | Training Time: 4336.5373611450195 ms | Total Time: 6088.867902755737 ms\n",
            "At epoch 10 Cost = 0.6934177642283232 | Train Accuracy = 0.4375\n",
            "Final - Train Accuracy = 0.4375\n"
          ],
          "name": "stdout"
        },
        {
          "output_type": "display_data",
          "data": {
            "image/png": "[encoded data removed]",
            "text/plain": [
              "<matplotlib.figure.Figure at 0x7f6272d2e2b0>"
            ]
          },
          "metadata": {
            "tags": []
          }
        },
        {
          "output_type": "execute_result",
          "data": {
            "text/plain": [
              "'./my_model_final.ckpt'"
            ]
          },
          "metadata": {
            "tags": []
          },
          "execution_count": 15
        }
      ]
    },
    {
      "metadata": {
        "id": "8bTQXDJzgz4f",
        "colab_type": "code",
        "colab": {}
      },
      "cell_type": "code",
      "source": [
        ""
      ],
      "execution_count": 0,
      "outputs": []
    }
  ]
}