{
 "cells": [
  {
   "cell_type": "code",
   "execution_count": 41,
   "metadata": {
    "collapsed": true
   },
   "outputs": [],
   "source": [
    "import numpy as np\n",
    "import h5py\n",
    "import math"
   ]
  },
  {
   "cell_type": "code",
   "execution_count": 50,
   "metadata": {
    "collapsed": true
   },
   "outputs": [],
   "source": [
    "def load_dataset_cat_vs_non_cat():\n",
    "    \n",
    "    # h5py.File() returns a File object. \n",
    "    train_dataset = h5py.File('datasets/train_catvnoncat.h5', mode = 'r')\n",
    "    test_dataset = h5py.File('datasets/test_catvnoncat.h5', mode = 'r')\n",
    "    #print(type(train_dataset)) # Prints <class 'h5py._hl.files.File'>\n",
    "    \n",
    "    #Check the contents of the File object. h5py File acts like a dictionary. So, we can list the keys it contains\n",
    "    #print(list(train_dataset.keys()))\n",
    "    #print(list(test_dataset.keys()))\n",
    "    \n",
    "    train_set_x_orig = np.array(train_dataset['train_set_x'][:])\n",
    "    train_set_y_orig = np.array(train_dataset['train_set_y'][:])\n",
    "    \n",
    "    test_set_x_orig = np.array(test_dataset['test_set_x'][:])\n",
    "    test_set_y_orig = np.array(test_dataset['test_set_y'][:])\n",
    "    \n",
    "    #Since both train and test classes contain the same two classes just returning back one of them\n",
    "    classes = np.array(test_dataset['list_classes'][:])\n",
    "    \n",
    "    print('Train X shape', train_set_x_orig.shape)\n",
    "    #print('Train Y shape', train_set_y_orig.shape)\n",
    "    print('Test X shape', test_set_x_orig.shape)\n",
    "    #print('Test Y shape', test_set_y_orig.shape)\n",
    "    \n",
    "    train_set_y_orig = train_set_y_orig.reshape(1, train_set_y_orig.shape[0])\n",
    "    test_set_y_orig = test_set_y_orig.reshape(1, test_set_y_orig.shape[0])\n",
    "    print('Train Y shape', train_set_y_orig.shape)\n",
    "    print('Test Y shape', test_set_y_orig.shape)\n",
    "    \n",
    "    return train_set_x_orig, train_set_y_orig, test_set_x_orig, test_set_y_orig, classes"
   ]
  },
  {
   "cell_type": "code",
   "execution_count": 52,
   "metadata": {
    "collapsed": true
   },
   "outputs": [],
   "source": [
    "def create_random_mini_batches(X, Y, batch_size = 64):\n",
    "    \n",
    "    n_samples = X.shape[1]                  \n",
    "    batches = []\n",
    "    \n",
    "    p = list(np.random.permutation(int(n_samples)))\n",
    "    X_shuffled = X[:, p]\n",
    "    Y_shuffled = Y[:, p].reshape((Y.shape[0], n_samples))\n",
    "\n",
    "    n_batches = math.floor(n_samples / batch_size)\n",
    "    for i in range(0, n_batches):\n",
    "        \n",
    "        start_pos = i * batch_size\n",
    "        end_pos = start_pos + batch_size\n",
    "        \n",
    "        X_batch = X_shuffled[:, start_pos : end_pos]\n",
    "        Y_batch = Y_shuffled[:, start_pos : end_pos]\n",
    "        batch = (X_batch, Y_batch)\n",
    "        batches.append(batch)\n",
    "    \n",
    "    if n_samples % batch_size != 0:\n",
    "        \n",
    "        start_pos = n_batches * batch_size\n",
    "        \n",
    "        X_batch = X_shuffled[:, start_pos : n_samples]\n",
    "        Y_batch = Y_shuffled[:, start_pos : n_samples]\n",
    "        batch = (X_batch, Y_batch)\n",
    "        batches.append(batch)\n",
    "    \n",
    "    return batches"
   ]
  },
  {
   "cell_type": "code",
   "execution_count": null,
   "metadata": {
    "collapsed": true
   },
   "outputs": [],
   "source": []
  }
 ],
 "metadata": {
  "kernelspec": {
   "display_name": "Python 3",
   "language": "python",
   "name": "python3"
  },
  "language_info": {
   "codemirror_mode": {
    "name": "ipython",
    "version": 3
   },
   "file_extension": ".py",
   "mimetype": "text/x-python",
   "name": "python",
   "nbconvert_exporter": "python",
   "pygments_lexer": "ipython3",
   "version": "3.6.2"
  }
 },
 "nbformat": 4,
 "nbformat_minor": 2
}
